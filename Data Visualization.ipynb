{
 "cells": [
  {
   "cell_type": "code",
   "execution_count": 4,
   "id": "efca63c6",
   "metadata": {},
   "outputs": [],
   "source": [
    "from matplotlib import pyplot as plt\n",
    "import numpy as np\n",
    "from collections import Counter\n",
    "import pandas as pd"
   ]
  },
  {
   "cell_type": "code",
   "execution_count": 7,
   "id": "cdb84b77",
   "metadata": {},
   "outputs": [],
   "source": [
    "df = pd.read_csv('survey_results_public.csv')\n",
    "langs = df['LanguageWorkedWith'].dropna()"
   ]
  },
  {
   "cell_type": "code",
   "execution_count": 9,
   "id": "4c5be0d3",
   "metadata": {},
   "outputs": [],
   "source": [
    "langcntr = Counter()\n",
    "for re in langs: langcntr.update(re.split(';'))"
   ]
  },
  {
   "cell_type": "code",
   "execution_count": 18,
   "id": "694bd2af",
   "metadata": {},
   "outputs": [
    {
     "data": {
      "text/plain": [
       "<BarContainer object of 10 artists>"
      ]
     },
     "execution_count": 18,
     "metadata": {},
     "output_type": "execute_result"
    },
    {
     "data": {
      "image/png": "[encoded data removed]",
      "text/plain": [
       "<Figure size 432x288 with 1 Axes>"
      ]
     },
     "metadata": {
      "needs_background": "light"
     },
     "output_type": "display_data"
    }
   ],
   "source": [
    "lang = []\n",
    "pop = []\n",
    "for re in langcntr.most_common(10):\n",
    "    lang.append(re[0])\n",
    "    pop.append(re[1])\n",
    "    \n",
    "\n",
    "plt.barh(lang,pop)"
   ]
  },
  {
   "cell_type": "code",
   "execution_count": null,
   "id": "5ef5b840",
   "metadata": {},
   "outputs": [],
   "source": []
  }
 ],
 "metadata": {
  "kernelspec": {
   "display_name": "Python 3",
   "language": "python",
   "name": "python3"
  },
  "language_info": {
   "codemirror_mode": {
    "name": "ipython",
    "version": 3
   },
   "file_extension": ".py",
   "mimetype": "text/x-python",
   "name": "python",
   "nbconvert_exporter": "python",
   "pygments_lexer": "ipython3",
   "version": "3.8.8"
  }
 },
 "nbformat": 4,
 "nbformat_minor": 5
}
